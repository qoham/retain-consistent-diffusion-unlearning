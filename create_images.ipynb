{
 "cells": [
  {
   "cell_type": "code",
   "execution_count": null,
   "metadata": {},
   "outputs": [],
   "source": [
    "from utils.sd_pipeline_utils import generate_unlearn_target_images, re_generate_unlearn_target_image, generate_images\n",
    "import os\n",
    "os.environ['HF_ENDPOINT'] = 'https://hf-mirror.com'"
   ]
  },
  {
   "cell_type": "code",
   "execution_count": null,
   "metadata": {},
   "outputs": [],
   "source": [
    "concepts = [\n",
    "    ('cat', 'dog'),\n",
    "    ('apple', 'pear'),\n",
    "    ('van_gogh', 'watercolor'),\n",
    "    ('claude_monet', 'watercolor'),\n",
    "    ('elon_musk', 'man'),\n",
    "    ('taylor_swift', 'woman'),\n",
    "    ('naked', 'dressed'),\n",
    "]"
   ]
  },
  {
   "cell_type": "code",
   "execution_count": null,
   "metadata": {},
   "outputs": [],
   "source": [
    "for unlearn_concept, target_concept in concepts:\n",
    "    print(f\"generating {unlearn_concept}...\")\n",
    "    generate_unlearn_target_images(unlearn_concept, target_concept, image_num=500, batch_size=50)"
   ]
  },
  {
   "cell_type": "code",
   "execution_count": 4,
   "metadata": {},
   "outputs": [],
   "source": [
    "# re_generate_unlearn_target_image('naked', 'dressed', seqs=[\n",
    "# ], generate_unlearn=True, generate_target=False)"
   ]
  },
  {
   "cell_type": "code",
   "execution_count": null,
   "metadata": {},
   "outputs": [],
   "source": [
    "from utils.utils import read_file_lines\n",
    "from pathlib import Path\n",
    "other_dir = f\"./data/_other\"\n",
    "\n",
    "Path(other_dir).mkdir(parents=True, exist_ok=True)\n",
    "\n",
    "other_prompts = read_file_lines(f\"./prompts/other/other.txt\")\n",
    "generate_images(other_prompts, out_dir=other_dir, batch_size=50)"
   ]
  }
 ],
 "metadata": {
  "kernelspec": {
   "display_name": "myconda",
   "language": "python",
   "name": "python3"
  },
  "language_info": {
   "codemirror_mode": {
    "name": "ipython",
    "version": 3
   },
   "file_extension": ".py",
   "mimetype": "text/x-python",
   "name": "python",
   "nbconvert_exporter": "python",
   "pygments_lexer": "ipython3",
   "version": "3.12.4"
  }
 },
 "nbformat": 4,
 "nbformat_minor": 2
}
