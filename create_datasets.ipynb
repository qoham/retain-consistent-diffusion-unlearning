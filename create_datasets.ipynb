{
 "cells": [
  {
   "cell_type": "code",
   "execution_count": 1,
   "metadata": {},
   "outputs": [],
   "source": [
    "from utils.utils import create_unlearn_dataset, create_other_dataset"
   ]
  },
  {
   "cell_type": "code",
   "execution_count": 2,
   "metadata": {},
   "outputs": [],
   "source": [
    "concepts = [\n",
    "    ('cat', 'dog'),\n",
    "    ('apple', 'pear'),\n",
    "    ('van_gogh', 'watercolor'),\n",
    "    ('claude_monet', 'watercolor'),\n",
    "    ('elon_musk', 'man'),\n",
    "    ('taylor_swift', 'woman'),\n",
    "    ('naked', 'dressed'),\n",
    "]"
   ]
  },
  {
   "cell_type": "code",
   "execution_count": 3,
   "metadata": {},
   "outputs": [],
   "source": [
    "for unlearn_concept, target_concept in concepts:\n",
    "    create_unlearn_dataset(unlearn_concept=unlearn_concept, target_concept=target_concept)"
   ]
  },
  {
   "cell_type": "code",
   "execution_count": 4,
   "metadata": {},
   "outputs": [],
   "source": [
    "create_other_dataset()"
   ]
  }
 ],
 "metadata": {
  "kernelspec": {
   "display_name": "myconda",
   "language": "python",
   "name": "python3"
  },
  "language_info": {
   "codemirror_mode": {
    "name": "ipython",
    "version": 3
   },
   "file_extension": ".py",
   "mimetype": "text/x-python",
   "name": "python",
   "nbconvert_exporter": "python",
   "pygments_lexer": "ipython3",
   "version": "3.12.4"
  }
 },
 "nbformat": 4,
 "nbformat_minor": 2
}
